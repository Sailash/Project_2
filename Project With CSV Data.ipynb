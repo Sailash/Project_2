{
 "cells": [
  {
   "cell_type": "code",
   "execution_count": 1,
   "id": "30456c20",
   "metadata": {},
   "outputs": [],
   "source": [
    "# Set the Required Spark path\n",
    "import findspark\n",
    "findspark.init()"
   ]
  },
  {
   "cell_type": "code",
   "execution_count": 23,
   "id": "dea026c8",
   "metadata": {},
   "outputs": [],
   "source": [
    "# Importing required libraries from pyspark.sql\n",
    "from pyspark.sql import SparkSession\n",
    "from pyspark.sql.functions import to_utc_timestamp, date_format"
   ]
  },
  {
   "cell_type": "code",
   "execution_count": 3,
   "id": "0460f95e",
   "metadata": {},
   "outputs": [],
   "source": [
    "# creating spark session\n",
    "spark = SparkSession.builder.appName(\"app\").getOrCreate()\n",
    "# creating spark context\n",
    "sc = spark.sparkContext"
   ]
  },
  {
   "cell_type": "code",
   "execution_count": 4,
   "id": "845cfce8",
   "metadata": {},
   "outputs": [],
   "source": [
    "# locate the csv path \n",
    "pathToRead = r\"C:\\Users\\Sailash\\Desktop\\revature\\Practise\\game_info.csv\""
   ]
  },
  {
   "cell_type": "code",
   "execution_count": 5,
   "id": "e00cb046",
   "metadata": {},
   "outputs": [],
   "source": [
    "# creating data frame from csv\n",
    "raw_df = spark.read.csv(pathToRead,header=True,)"
   ]
  },
  {
   "cell_type": "code",
   "execution_count": 6,
   "id": "6fb10fbb",
   "metadata": {},
   "outputs": [
    {
     "name": "stdout",
     "output_type": "stream",
     "text": [
      "root\n",
      " |-- id: string (nullable = true)\n",
      " |-- slug: string (nullable = true)\n",
      " |-- name: string (nullable = true)\n",
      " |-- metacritic: string (nullable = true)\n",
      " |-- released: string (nullable = true)\n",
      " |-- tba: string (nullable = true)\n",
      " |-- updated: string (nullable = true)\n",
      " |-- website: string (nullable = true)\n",
      " |-- rating: string (nullable = true)\n",
      " |-- rating_top: string (nullable = true)\n",
      " |-- playtime: string (nullable = true)\n",
      " |-- achievements_count: string (nullable = true)\n",
      " |-- ratings_count: string (nullable = true)\n",
      " |-- suggestions_count: string (nullable = true)\n",
      " |-- game_series_count: string (nullable = true)\n",
      " |-- reviews_count: string (nullable = true)\n",
      " |-- platforms: string (nullable = true)\n",
      " |-- developers: string (nullable = true)\n",
      " |-- genres: string (nullable = true)\n",
      " |-- publishers: string (nullable = true)\n",
      " |-- esrb_rating: string (nullable = true)\n",
      " |-- added_status_yet: string (nullable = true)\n",
      " |-- added_status_owned: string (nullable = true)\n",
      " |-- added_status_beaten: string (nullable = true)\n",
      " |-- added_status_toplay: string (nullable = true)\n",
      " |-- added_status_dropped: string (nullable = true)\n",
      " |-- added_status_playing: string (nullable = true)\n",
      "\n"
     ]
    }
   ],
   "source": [
    "# printing the schema\n",
    "raw_df.printSchema()"
   ]
  },
  {
   "cell_type": "code",
   "execution_count": 11,
   "id": "ffee5a3e",
   "metadata": {
    "scrolled": false
   },
   "outputs": [],
   "source": [
    "# spliting arrays from string and creating new data frame\n",
    "df = raw_df.select(\n",
    "    raw_df[\"id\"],\n",
    "    raw_df[\"slug\"],\n",
    "    raw_df[\"name\"],\n",
    "    raw_df[\"metacritic\"],\n",
    "    raw_df[\"released\"],\n",
    "    raw_df[\"tba\"],\n",
    "    raw_df[\"updated\"],\n",
    "    raw_df[\"website\"],\n",
    "    raw_df[\"rating\"],\n",
    "    raw_df[\"rating_top\"],\n",
    "    raw_df[\"playtime\"],\n",
    "    raw_df[\"achievements_count\"],\n",
    "    raw_df[\"ratings_count\"],\n",
    "    raw_df[\"suggestions_count\"],\n",
    "    raw_df[\"game_series_count\"],\n",
    "    raw_df[\"reviews_count\"],\n",
    "    split(col(\"platforms\"), \"\\|\\|\").alias(\"platforms\"),\n",
    "    split(col(\"developers\"), \"\\|\\|\").alias(\"developers\"),\n",
    "    split(col(\"genres\"), \"\\|\\|\").alias(\"genres\"),\n",
    "    split(col(\"publishers\"), \"\\|\\|\").alias(\"publishers\"),\n",
    "    raw_df[\"esrb_rating\"],\n",
    "    raw_df[\"added_status_yet\"],\n",
    "    raw_df[\"added_status_owned\"],\n",
    "    raw_df[\"added_status_beaten\"],\n",
    "    raw_df[\"added_status_toplay\"],\n",
    "    raw_df[\"added_status_dropped\"],\n",
    "    raw_df[\"added_status_playing\"],\n",
    ")"
   ]
  },
  {
   "cell_type": "code",
   "execution_count": 12,
   "id": "64ca1672",
   "metadata": {},
   "outputs": [
    {
     "name": "stdout",
     "output_type": "stream",
     "text": [
      "root\n",
      " |-- id: string (nullable = true)\n",
      " |-- slug: string (nullable = true)\n",
      " |-- name: string (nullable = true)\n",
      " |-- metacritic: string (nullable = true)\n",
      " |-- released: string (nullable = true)\n",
      " |-- tba: string (nullable = true)\n",
      " |-- updated: string (nullable = true)\n",
      " |-- website: string (nullable = true)\n",
      " |-- rating: string (nullable = true)\n",
      " |-- rating_top: string (nullable = true)\n",
      " |-- playtime: string (nullable = true)\n",
      " |-- achievements_count: string (nullable = true)\n",
      " |-- ratings_count: string (nullable = true)\n",
      " |-- suggestions_count: string (nullable = true)\n",
      " |-- game_series_count: string (nullable = true)\n",
      " |-- reviews_count: string (nullable = true)\n",
      " |-- platforms: array (nullable = true)\n",
      " |    |-- element: string (containsNull = true)\n",
      " |-- developers: array (nullable = true)\n",
      " |    |-- element: string (containsNull = true)\n",
      " |-- genres: array (nullable = true)\n",
      " |    |-- element: string (containsNull = true)\n",
      " |-- publishers: array (nullable = true)\n",
      " |    |-- element: string (containsNull = true)\n",
      " |-- esrb_rating: string (nullable = true)\n",
      " |-- added_status_yet: string (nullable = true)\n",
      " |-- added_status_owned: string (nullable = true)\n",
      " |-- added_status_beaten: string (nullable = true)\n",
      " |-- added_status_toplay: string (nullable = true)\n",
      " |-- added_status_dropped: string (nullable = true)\n",
      " |-- added_status_playing: string (nullable = true)\n",
      "\n"
     ]
    }
   ],
   "source": [
    "# printing the schema\n",
    "df.printSchema()"
   ]
  },
  {
   "cell_type": "code",
   "execution_count": 57,
   "id": "359b3bfe",
   "metadata": {},
   "outputs": [],
   "source": [
    "# saving the\n",
    "pathToSave = r\"C:\\Users\\Sailash\\Desktop\\revature\\Practise\\game_info\"\n",
    "df.write.json(pathToSave)"
   ]
  },
  {
   "cell_type": "markdown",
   "id": "77ad6dad",
   "metadata": {},
   "source": [
    "# Which is the top most rated games for each platform"
   ]
  },
  {
   "cell_type": "code",
   "execution_count": 48,
   "id": "647823d6",
   "metadata": {
    "scrolled": true
   },
   "outputs": [],
   "source": [
    "# selecting required columns from df\n",
    "game_df = df.select(\n",
    "    df[\"name\"], \n",
    "    df[\"released\"], \n",
    "    explode(\"platforms\"), \n",
    "    df[\"rating\"], \n",
    "    df[\"rating_top\"], \n",
    "    df[\"ratings_count\"], \n",
    "    df[\"playtime\"]\n",
    ")"
   ]
  },
  {
   "cell_type": "code",
   "execution_count": 52,
   "id": "d7f311c7",
   "metadata": {},
   "outputs": [
    {
     "name": "stdout",
     "output_type": "stream",
     "text": [
      "root\n",
      " |-- name: string (nullable = true)\n",
      " |-- released: string (nullable = true)\n",
      " |-- col: string (nullable = true)\n",
      " |-- rating: string (nullable = true)\n",
      " |-- rating_top: string (nullable = true)\n",
      " |-- ratings_count: string (nullable = true)\n",
      " |-- playtime: string (nullable = true)\n",
      "\n"
     ]
    }
   ],
   "source": [
    "# most rated games for each platform data frame's schema  \n",
    "game_df.printSchema()"
   ]
  },
  {
   "cell_type": "code",
   "execution_count": 50,
   "id": "6058260f",
   "metadata": {},
   "outputs": [],
   "source": [
    "# creating temp table\n",
    "game_df.createOrReplaceTempView(\"filtered_games\")"
   ]
  },
  {
   "cell_type": "code",
   "execution_count": 51,
   "id": "fccfd750",
   "metadata": {},
   "outputs": [
    {
     "name": "stdout",
     "output_type": "stream",
     "text": [
      "+---------------------------------+------+----------------+\n",
      "|name                             |rating|platform        |\n",
      "+---------------------------------+------+----------------+\n",
      "|D/Generation HD                  |5.0   |Xbox One        |\n",
      "|D/Generation HD                  |5.0   |PC              |\n",
      "|D/Generation HD                  |5.0   |PlayStation 4   |\n",
      "|Land Sliders                     |4.86  |iOS             |\n",
      "|Tron 2.0                         |4.83  |Game Boy Advance|\n",
      "|Gobbo goes adventure             |4.83  |Android         |\n",
      "|The Keep                         |4.78  |Nintendo 3DS    |\n",
      "|Runbow                           |4.78  |Wii U           |\n",
      "|D/Generation HD                  |4.78  |Nintendo Switch |\n",
      "|Kane and Lynch: Dead Men         |4.78  |PlayStation 3   |\n",
      "|Royal Defense Ultimate Collection|4.78  |PS Vita         |\n",
      "|D/Generation HD                  |4.78  |macOS           |\n",
      "|Red Entity                       |4.78  |Linux           |\n",
      "|Hogwarts Legacy                  |4.73  |Xbox Series S/X |\n",
      "|Kane and Lynch: Dead Men         |4.73  |Xbox 360        |\n",
      "|Maximum Override                 |4.73  |PlayStation 5   |\n",
      "|Destroy All Humans!              |4.71  |Wii             |\n",
      "|FINAL FANTASY VI                 |4.71  |SNES            |\n",
      "|FINAL FANTASY VI                 |4.71  |PlayStation     |\n",
      "|FINAL FANTASY VI                 |4.67  |PSP             |\n",
      "+---------------------------------+------+----------------+\n",
      "only showing top 20 rows\n",
      "\n"
     ]
    }
   ],
   "source": [
    "# geting the top rated game accross all platform\n",
    "spark.sql(\"\"\"\n",
    "    select name, rating, platform from (\n",
    "    select row_number() over(partition by col order by col) as num,\n",
    "    name,\n",
    "    col as platform,\n",
    "    max(rating) over (partition by col) as rating\n",
    "    from filtered_games\n",
    "    where col != '0'\n",
    "    order by rating desc) as table\n",
    "    where num = 1\n",
    "    \"\"\"\n",
    ").show(truncate=False)"
   ]
  },
  {
   "cell_type": "markdown",
   "id": "b85093db",
   "metadata": {},
   "source": [
    "# Which game dev has released most games"
   ]
  },
  {
   "cell_type": "code",
   "execution_count": 17,
   "id": "be532cec",
   "metadata": {},
   "outputs": [],
   "source": [
    "# select the required columns and expand the arrays\n",
    "dev_df = df.select(df[\"name\"], explode(\"developers\"))"
   ]
  },
  {
   "cell_type": "code",
   "execution_count": 53,
   "id": "a64f325a",
   "metadata": {},
   "outputs": [
    {
     "name": "stdout",
     "output_type": "stream",
     "text": [
      "root\n",
      " |-- name: string (nullable = true)\n",
      " |-- col: string (nullable = true)\n",
      "\n"
     ]
    }
   ],
   "source": [
    "# game developers data frame's schema\n",
    "dev_df.printSchema()"
   ]
  },
  {
   "cell_type": "code",
   "execution_count": 18,
   "id": "8a01e31a",
   "metadata": {},
   "outputs": [],
   "source": [
    "# creating temp table\n",
    "dev_df.createOrReplaceTempView(\"filtered_developers\")"
   ]
  },
  {
   "cell_type": "code",
   "execution_count": 44,
   "id": "bb701a6f",
   "metadata": {},
   "outputs": [
    {
     "name": "stdout",
     "output_type": "stream",
     "text": [
      "+------------------------------+-----+\n",
      "|developers                    |games|\n",
      "+------------------------------+-----+\n",
      "|Sony Interactive Entertainment|647  |\n",
      "|SEGA                          |513  |\n",
      "|Konami Digital Entertainment  |415  |\n",
      "|Nintendo                      |395  |\n",
      "|Capcom                        |395  |\n",
      "|Big Fish Games                |380  |\n",
      "|Electronic Arts               |316  |\n",
      "|Ubisoft                       |299  |\n",
      "|Square Enix                   |295  |\n",
      "|Robert Brooks                 |239  |\n",
      "+------------------------------+-----+\n",
      "\n"
     ]
    }
   ],
   "source": [
    "# display most game released by developers\n",
    "spark.sql(\"\"\"\n",
    "    select col as developers, \n",
    "    count(name) as games \n",
    "    from filtered_developers \n",
    "    group by col \n",
    "    order by games desc \n",
    "    limit 10\n",
    "\"\"\").show(truncate=False)"
   ]
  },
  {
   "cell_type": "markdown",
   "id": "b3f7b05c",
   "metadata": {},
   "source": [
    "# Which game genres has most games"
   ]
  },
  {
   "cell_type": "code",
   "execution_count": 20,
   "id": "390f18a2",
   "metadata": {},
   "outputs": [],
   "source": [
    "# select the required columns and expand the arrays\n",
    "genres_df = df.select(df[\"name\"], explode(\"genres\"))"
   ]
  },
  {
   "cell_type": "code",
   "execution_count": 54,
   "id": "c89fad1d",
   "metadata": {},
   "outputs": [
    {
     "name": "stdout",
     "output_type": "stream",
     "text": [
      "root\n",
      " |-- name: string (nullable = true)\n",
      " |-- col: string (nullable = true)\n",
      "\n"
     ]
    }
   ],
   "source": [
    "# game gener data frame's schema\n",
    "genres_df.printSchema()"
   ]
  },
  {
   "cell_type": "code",
   "execution_count": 21,
   "id": "f512221c",
   "metadata": {},
   "outputs": [],
   "source": [
    "# creating temp table\n",
    "genres_df.createOrReplaceTempView(\"filtered_genres\")"
   ]
  },
  {
   "cell_type": "code",
   "execution_count": 22,
   "id": "d1651589",
   "metadata": {},
   "outputs": [
    {
     "name": "stdout",
     "output_type": "stream",
     "text": [
      "+----------+------+\n",
      "|    genres| count|\n",
      "+----------+------+\n",
      "|    Action|102023|\n",
      "| Adventure| 72209|\n",
      "|    Puzzle| 55550|\n",
      "|Platformer| 48252|\n",
      "|Simulation| 40719|\n",
      "|     Indie| 33155|\n",
      "|  Strategy| 33050|\n",
      "|       RPG| 31947|\n",
      "|   Shooter| 31822|\n",
      "|    Casual| 28367|\n",
      "+----------+------+\n",
      "\n"
     ]
    }
   ],
   "source": [
    "# display most game released by genres\n",
    "spark.sql(\"\"\"\n",
    "    select col as genres, \n",
    "    count(name) as count \n",
    "    from filtered_genres \n",
    "    group by genres \n",
    "    order by count desc \n",
    "    limit 10\n",
    "\"\"\").show()"
   ]
  },
  {
   "cell_type": "markdown",
   "id": "547c5d1c",
   "metadata": {},
   "source": [
    "# Maximum number of games realise by years  "
   ]
  },
  {
   "cell_type": "code",
   "execution_count": 27,
   "id": "f78bda56",
   "metadata": {},
   "outputs": [],
   "source": [
    "# convert date in string type into date type and create new data frame \n",
    "game_date_df = df.select(df[\"name\"], to_utc_timestamp(date_format(col(\"released\"), \"yyy-MM-dd\"), \"UTC\").alias(\"released\"))"
   ]
  },
  {
   "cell_type": "code",
   "execution_count": 55,
   "id": "baa586bb",
   "metadata": {},
   "outputs": [
    {
     "name": "stdout",
     "output_type": "stream",
     "text": [
      "root\n",
      " |-- name: string (nullable = true)\n",
      " |-- released: timestamp (nullable = true)\n",
      "\n"
     ]
    }
   ],
   "source": [
    "# max number of games realised by years data frame's schema\n",
    "game_date_df.printSchema()"
   ]
  },
  {
   "cell_type": "code",
   "execution_count": 28,
   "id": "6641946b",
   "metadata": {},
   "outputs": [],
   "source": [
    "# creating temp table\n",
    "game_date_df.createOrReplaceTempView(\"release_date\")"
   ]
  },
  {
   "cell_type": "code",
   "execution_count": 43,
   "id": "26c39d43",
   "metadata": {},
   "outputs": [
    {
     "name": "stdout",
     "output_type": "stream",
     "text": [
      "+----+----------+\n",
      "|year|game_count|\n",
      "+----+----------+\n",
      "|2020|118507    |\n",
      "|2019|79170     |\n",
      "|2018|71177     |\n",
      "|2017|56193     |\n",
      "|2016|41074     |\n",
      "|2015|26239     |\n",
      "|2014|15450     |\n",
      "|2013|6228      |\n",
      "|2012|5268      |\n",
      "|2011|4215      |\n",
      "|2010|3785      |\n",
      "|2009|3009      |\n",
      "|2008|1940      |\n",
      "|2007|1483      |\n",
      "|2006|1196      |\n",
      "|2004|1082      |\n",
      "|2005|1078      |\n",
      "|2003|1066      |\n",
      "|2001|1060      |\n",
      "|2002|936       |\n",
      "+----+----------+\n",
      "only showing top 20 rows\n",
      "\n"
     ]
    }
   ],
   "source": [
    "# display the most number of game released per year\n",
    "spark.sql(\"\"\"\n",
    "    select YEAR(released) as year, \n",
    "    count(name) as game_count \n",
    "    from release_date \n",
    "    group by year \n",
    "    having year is not null \n",
    "    order by game_count desc\n",
    "\"\"\").show(truncate=False)"
   ]
  },
  {
   "cell_type": "markdown",
   "id": "2d20a10e",
   "metadata": {},
   "source": [
    "# DIfference of Game release and Game update "
   ]
  },
  {
   "cell_type": "code",
   "execution_count": 31,
   "id": "f08c57a5",
   "metadata": {},
   "outputs": [],
   "source": [
    "# convert string type date into date type\n",
    "release_update_df = df.select(\n",
    "    df[\"name\"],\n",
    "    to_utc_timestamp(date_format(col(\"released\"), \"yyy-MM-dd\"), \"UTC\").alias(\"released\"), \n",
    "    to_utc_timestamp(date_format(col(\"updated\"), \"yyy-MM-dd\"), \"UTC\").alias(\"updated\"),\n",
    ")"
   ]
  },
  {
   "cell_type": "code",
   "execution_count": 35,
   "id": "c6cc5a69",
   "metadata": {},
   "outputs": [],
   "source": [
    "# convert into unix epoch and find the difference and convert into days\n",
    "diff_secs_col = release_update_df[\"updated\"].cast(\"long\") - release_update_df[\"released\"].cast(\"long\")\n",
    "update_df = release_update_df.withColumn(\"days\", round(diff_secs_col / 86400, 2))"
   ]
  },
  {
   "cell_type": "code",
   "execution_count": 56,
   "id": "4775974e",
   "metadata": {},
   "outputs": [
    {
     "name": "stdout",
     "output_type": "stream",
     "text": [
      "root\n",
      " |-- name: string (nullable = true)\n",
      " |-- released: timestamp (nullable = true)\n",
      " |-- updated: timestamp (nullable = true)\n",
      " |-- days: double (nullable = true)\n",
      "\n"
     ]
    }
   ],
   "source": [
    "# game release and update difference data frame's schema\n",
    "update_df.printSchema()"
   ]
  },
  {
   "cell_type": "code",
   "execution_count": 36,
   "id": "bce83c2d",
   "metadata": {},
   "outputs": [],
   "source": [
    "# creating temp table\n",
    "update_df.createOrReplaceTempView(\"first_update\")"
   ]
  },
  {
   "cell_type": "code",
   "execution_count": 42,
   "id": "8410d989",
   "metadata": {},
   "outputs": [
    {
     "name": "stdout",
     "output_type": "stream",
     "text": [
      "+--------------------------------------------+-------------------+-------------------+----+\n",
      "|name                                        |released           |updated            |days|\n",
      "+--------------------------------------------+-------------------+-------------------+----+\n",
      "|PROTEST SIMULATOR                           |2019-08-28 00:00:00|2019-08-28 00:00:00|0.0 |\n",
      "|l1ght                                       |2019-08-05 00:00:00|2019-08-05 00:00:00|0.0 |\n",
      "|Tiny Moon Runner                            |2019-08-05 00:00:00|2019-08-05 00:00:00|0.0 |\n",
      "|Steve's Indubitably Awesome Arcade Adventure|2019-08-05 00:00:00|2019-08-05 00:00:00|0.0 |\n",
      "|Roll+Heart Demo                             |2019-08-05 00:00:00|2019-08-05 00:00:00|0.0 |\n",
      "|vane (itch)                                 |2019-08-05 00:00:00|2019-08-05 00:00:00|0.0 |\n",
      "|With your own wings                         |2019-08-05 00:00:00|2019-08-05 00:00:00|0.0 |\n",
      "|Slider-Man Demo                             |2019-08-05 00:00:00|2019-08-05 00:00:00|0.0 |\n",
      "|WanLiTongFeng                               |2019-08-05 00:00:00|2019-08-05 00:00:00|0.0 |\n",
      "|Carrot Defender                             |2019-08-05 00:00:00|2019-08-05 00:00:00|0.0 |\n",
      "|The Platform                                |2019-08-05 00:00:00|2019-08-05 00:00:00|0.0 |\n",
      "|Abyss (itch) (MCATIN)                       |2019-08-05 00:00:00|2019-08-05 00:00:00|0.0 |\n",
      "|THE BUTTON (Gatchel_Ryan)                   |2019-08-05 00:00:00|2019-08-05 00:00:00|0.0 |\n",
      "|Garbage Defence                             |2019-08-05 00:00:00|2019-08-05 00:00:00|0.0 |\n",
      "|Product!One                                 |2019-08-05 00:00:00|2019-08-05 00:00:00|0.0 |\n",
      "|Alfonzo's Bowling Challenge                 |2019-08-05 00:00:00|2019-08-05 00:00:00|0.0 |\n",
      "|ReTrieve (MCATIN)                           |2019-08-05 00:00:00|2019-08-05 00:00:00|0.0 |\n",
      "|Darkness at Valgnar                         |2019-08-05 00:00:00|2019-08-05 00:00:00|0.0 |\n",
      "|Meteor Run Web                              |2019-08-05 00:00:00|2019-08-05 00:00:00|0.0 |\n",
      "|One With The Woods                          |2019-08-05 00:00:00|2019-08-05 00:00:00|0.0 |\n",
      "+--------------------------------------------+-------------------+-------------------+----+\n",
      "only showing top 20 rows\n",
      "\n"
     ]
    }
   ],
   "source": [
    "# display the update difference\n",
    "spark.sql(\"\"\"\n",
    "    select name, \n",
    "    released, \n",
    "    updated, \n",
    "    days \n",
    "    from first_update \n",
    "    where days is not null and days >= 0 \n",
    "    order by days\n",
    "\"\"\").show(truncate=False)"
   ]
  },
  {
   "cell_type": "code",
   "execution_count": null,
   "id": "f875c286",
   "metadata": {},
   "outputs": [],
   "source": []
  }
 ],
 "metadata": {
  "kernelspec": {
   "display_name": "Python 3",
   "language": "python",
   "name": "python3"
  },
  "language_info": {
   "codemirror_mode": {
    "name": "ipython",
    "version": 3
   },
   "file_extension": ".py",
   "mimetype": "text/x-python",
   "name": "python",
   "nbconvert_exporter": "python",
   "pygments_lexer": "ipython3",
   "version": "3.8.8"
  }
 },
 "nbformat": 4,
 "nbformat_minor": 5
}
